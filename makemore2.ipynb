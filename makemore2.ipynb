{
 "cells": [
  {
   "cell_type": "code",
   "execution_count": 2,
   "id": "8222f939",
   "metadata": {},
   "outputs": [],
   "source": [
    "import torch\n",
    "import torch.nn.functional as F\n",
    "import matplotlib.pyplot as plt\n",
    "%matplotlib inline"
   ]
  },
  {
   "cell_type": "code",
   "execution_count": 3,
   "id": "a470fb01",
   "metadata": {},
   "outputs": [
    {
     "data": {
      "text/plain": [
       "['abhishek', 'aman', 'harsh', 'ayush', 'aditi', 'anjali', 'shubham', 'anushka']"
      ]
     },
     "execution_count": 3,
     "metadata": {},
     "output_type": "execute_result"
    }
   ],
   "source": [
    "#reading the file\n",
    "words=open(\"names.txt\",'r').read().splitlines()\n",
    "import re\n",
    "for _ in range(len(words)):\n",
    "    words[_]=words[_].lower() #to convert the capital letters into small\n",
    "    pattern = r'[^a-z\\s]'\n",
    "    words[_] = re.sub(pattern, '', words[_])\n",
    "    #print(_)\n",
    "words[:10]\n",
    "words[:8]"
   ]
  },
  {
   "cell_type": "code",
   "execution_count": 4,
   "id": "a9d44d12",
   "metadata": {},
   "outputs": [
    {
     "name": "stdout",
     "output_type": "stream",
     "text": [
      "{1: 'a', 2: 'b', 3: 'c', 4: 'd', 5: 'e', 6: 'f', 7: 'g', 8: 'h', 9: 'i', 10: 'j', 11: 'k', 12: 'l', 13: 'm', 14: 'n', 15: 'o', 16: 'p', 17: 'q', 18: 'r', 19: 's', 20: 't', 21: 'u', 22: 'v', 23: 'w', 24: 'x', 25: 'y', 26: 'z', 0: '.'}\n"
     ]
    }
   ],
   "source": [
    "chars=sorted(list(set(''.join(words))))\n",
    "stoi={s:i+1 for i,s in enumerate(chars)}\n",
    "stoi['.']=0\n",
    "itos={i:s for s,i in stoi.items()}\n",
    "print(itos)"
   ]
  },
  {
   "cell_type": "code",
   "execution_count": 38,
   "id": "6ba0ff05",
   "metadata": {},
   "outputs": [],
   "source": [
    "#build the dataset\n",
    "block_size=3 #how many character do we take to predict the next character\n",
    "x,y=[],[]\n",
    "for w in words:\n",
    "    context=[0]*block_size\n",
    "    for ch in w+'.':\n",
    "        ix=stoi[ch]\n",
    "        x.append(context)\n",
    "        y.append(ix)\n",
    "        #print(''.join(itos[i] for i in context),'---->',ch)\n",
    "        context=context[1:] + [ix]\n",
    "        \n",
    "x=torch.tensor(x)\n",
    "y=torch.tensor(y)"
   ]
  },
  {
   "cell_type": "code",
   "execution_count": 39,
   "id": "bc9e6234",
   "metadata": {},
   "outputs": [
    {
     "data": {
      "text/plain": [
       "(torch.Size([8753, 3]), torch.int64, torch.Size([8753]), torch.int64)"
      ]
     },
     "execution_count": 39,
     "metadata": {},
     "output_type": "execute_result"
    }
   ],
   "source": [
    "x.shape,x.dtype,y.shape,y.dtype"
   ]
  },
  {
   "cell_type": "code",
   "execution_count": 40,
   "id": "591220b5",
   "metadata": {},
   "outputs": [],
   "source": [
    "c=torch.randn(27,2)"
   ]
  },
  {
   "cell_type": "code",
   "execution_count": 8,
   "id": "11833c33",
   "metadata": {},
   "outputs": [
    {
     "data": {
      "text/plain": [
       "torch.Size([32, 3, 2])"
      ]
     },
     "execution_count": 8,
     "metadata": {},
     "output_type": "execute_result"
    }
   ],
   "source": [
    "emb=c[x]\n",
    "emb.shape"
   ]
  },
  {
   "cell_type": "code",
   "execution_count": 9,
   "id": "26be2458",
   "metadata": {},
   "outputs": [],
   "source": [
    "w1=torch.randn(6,100)# 6 is the number of inputs and 100 is the number of neuron\n",
    "b1=torch.randn(100)\n"
   ]
  },
  {
   "cell_type": "code",
   "execution_count": 10,
   "id": "56598ed0",
   "metadata": {},
   "outputs": [
    {
     "data": {
      "text/plain": [
       "tensor([[-9.9997e-01, -1.0000e+00, -9.9248e-01,  ...,  9.0138e-02,\n",
       "          9.9916e-01, -7.5056e-01],\n",
       "        [-9.5854e-01,  9.6293e-01, -9.7228e-01,  ..., -9.2685e-01,\n",
       "          5.0888e-01,  6.2081e-02],\n",
       "        [ 9.5447e-01,  1.0000e+00, -9.1917e-01,  ..., -8.4217e-01,\n",
       "         -9.9966e-01, -8.2513e-01],\n",
       "        ...,\n",
       "        [ 9.9859e-01, -9.9998e-01,  9.3714e-01,  ..., -7.0330e-01,\n",
       "         -8.8679e-01, -7.9149e-01],\n",
       "        [-4.3479e-01,  3.1261e-01, -7.1853e-01,  ..., -9.5796e-01,\n",
       "         -2.3752e-01, -4.4581e-01],\n",
       "        [-9.8899e-01, -9.7246e-01, -7.7157e-01,  ...,  4.7008e-01,\n",
       "          9.9246e-01,  6.4343e-05]])"
      ]
     },
     "execution_count": 10,
     "metadata": {},
     "output_type": "execute_result"
    }
   ],
   "source": [
    "h=torch.tanh(emb.view([-1,6])@w1+b1)\n",
    "h"
   ]
  },
  {
   "cell_type": "code",
   "execution_count": 11,
   "id": "5f66aa39",
   "metadata": {},
   "outputs": [
    {
     "data": {
      "text/plain": [
       "torch.Size([32, 100])"
      ]
     },
     "execution_count": 11,
     "metadata": {},
     "output_type": "execute_result"
    }
   ],
   "source": [
    "h.shape\n",
    "#32,6@6,100 ==32,100\n",
    "#32,100\n",
    "#+1,100"
   ]
  },
  {
   "cell_type": "code",
   "execution_count": 12,
   "id": "7cdd2010",
   "metadata": {},
   "outputs": [],
   "source": [
    "w2=torch.randn(100,27)\n",
    "b2=torch.randn(27)"
   ]
  },
  {
   "cell_type": "code",
   "execution_count": 13,
   "id": "9cf054ed",
   "metadata": {},
   "outputs": [],
   "source": [
    "logits=h@w2+b2"
   ]
  },
  {
   "cell_type": "code",
   "execution_count": 14,
   "id": "f53450ee",
   "metadata": {},
   "outputs": [],
   "source": [
    "counts=logits.exp()"
   ]
  },
  {
   "cell_type": "code",
   "execution_count": 17,
   "id": "2447b427",
   "metadata": {},
   "outputs": [],
   "source": [
    "prob=counts/counts.sum(1,keepdims=True)"
   ]
  },
  {
   "cell_type": "code",
   "execution_count": 18,
   "id": "e949a032",
   "metadata": {},
   "outputs": [
    {
     "data": {
      "text/plain": [
       "torch.Size([32, 27])"
      ]
     },
     "execution_count": 18,
     "metadata": {},
     "output_type": "execute_result"
    }
   ],
   "source": [
    "prob.shape"
   ]
  },
  {
   "cell_type": "code",
   "execution_count": 20,
   "id": "d5fa7dba",
   "metadata": {},
   "outputs": [
    {
     "data": {
      "text/plain": [
       "tensor(21.1044)"
      ]
     },
     "execution_count": 20,
     "metadata": {},
     "output_type": "execute_result"
    }
   ],
   "source": [
    "#-prob[torch.arrange(32),y] this means iterate through all the 32 row and pluck the probability of prediction at yi index\n",
    "loss=-prob[torch.arange(32),y].log().mean()\n",
    "loss"
   ]
  },
  {
   "cell_type": "code",
   "execution_count": 21,
   "id": "2e437e43",
   "metadata": {},
   "outputs": [],
   "source": [
    "#--------------------now in more arranged manner--------------------------"
   ]
  },
  {
   "cell_type": "code",
   "execution_count": 51,
   "id": "ab950524",
   "metadata": {},
   "outputs": [
    {
     "data": {
      "text/plain": [
       "(torch.Size([8753, 3]), torch.Size([8753]))"
      ]
     },
     "execution_count": 51,
     "metadata": {},
     "output_type": "execute_result"
    }
   ],
   "source": [
    "x.shape,y.shape #dataset"
   ]
  },
  {
   "cell_type": "code",
   "execution_count": 52,
   "id": "e7d94f19",
   "metadata": {},
   "outputs": [],
   "source": [
    "g=torch.Generator().manual_seed(2147483647)\n",
    "c=torch.randn((27,2),generator=g)\n",
    "\n",
    "w1=torch.randn((6,100),generator=g)\n",
    "b1=torch.randn(100,generator=g)\n",
    "\n",
    "w2=torch.randn((100,27),generator=g)\n",
    "b2=torch.randn(27,generator=g)\n",
    "\n",
    "# counts=logits.exp()\n",
    "# prob=counts/counts.sum(1,keepdims=True)\n",
    "# loss=-prob[torch.arange(32),y].log().mean()\n",
    "\n",
    "#loss=F.cross_entropy(logits,y)# more efficient than calculating mannually because in this forward and backward pass will work more efficiently and mathematical fucntion will behave well\n",
    "\n",
    "parameter=[c,w1,b1,w2,b2]\n"
   ]
  },
  {
   "cell_type": "code",
   "execution_count": 68,
   "id": "7965b3db",
   "metadata": {},
   "outputs": [],
   "source": [
    "for p in parameter:\n",
    "    p.requires_grad=True"
   ]
  },
  {
   "cell_type": "code",
   "execution_count": 81,
   "id": "2c8af82e",
   "metadata": {},
   "outputs": [],
   "source": [
    "for _ in range(10000):\n",
    "    #forward pass\n",
    "    ix=torch.randint(0,x.shape[0],(32,))#creating mini batch\n",
    "    emb=c[x[ix]]\n",
    "    h=torch.tanh(emb.view([-1,6])@w1+b1)\n",
    "    logits=h@w2+b2\n",
    "    loss=F.cross_entropy(logits,y[ix])\n",
    "    #print(loss.item())\n",
    "    #backward pass\n",
    "    for p in parameter:\n",
    "        p.grad=None\n",
    "    loss.backward()\n",
    "    for p in parameter:\n",
    "        p.data+=-0.01*p.grad\n",
    "        \n",
    "        "
   ]
  },
  {
   "cell_type": "code",
   "execution_count": 82,
   "id": "d8b43a05",
   "metadata": {},
   "outputs": [
    {
     "data": {
      "text/plain": [
       "tensor(1.8108, grad_fn=<NllLossBackward0>)"
      ]
     },
     "execution_count": 82,
     "metadata": {},
     "output_type": "execute_result"
    }
   ],
   "source": [
    "emb=c[x]\n",
    "h=torch.tanh(emb.view([-1,6])@w1+b1)\n",
    "logits=h@w2+b2\n",
    "loss=F.cross_entropy(logits,y)\n",
    "loss"
   ]
  },
  {
   "cell_type": "code",
   "execution_count": null,
   "id": "7d5e7f82",
   "metadata": {},
   "outputs": [],
   "source": []
  },
  {
   "cell_type": "code",
   "execution_count": 86,
   "id": "e14cbcdb",
   "metadata": {},
   "outputs": [
    {
     "name": "stdout",
     "output_type": "stream",
     "text": [
      "junine.\n",
      "sanakar.\n",
      "pratar.\n",
      "akrit.\n",
      "shiniti.\n",
      "shas.\n",
      "geet.\n",
      "saheeshwanilendasshiddikrad.\n",
      "shasnisheay.\n",
      "arth.\n",
      "farudharif.\n",
      "demmarnimashwar.\n",
      "sanjan.\n",
      "saaya.\n",
      "pranjanjani.\n"
     ]
    }
   ],
   "source": [
    "g=torch.Generator().manual_seed(2147483647)\n",
    "for i in range(15):\n",
    "    out=[]\n",
    "    context=[0]*block_size\n",
    "    while(True):\n",
    "        emb=c[torch.tensor([context])]\n",
    "        h=torch.tanh(emb.view(1,-1)@w1+b1)\n",
    "        logits=h@w2+b2\n",
    "        counts=logits.exp()\n",
    "        probs=F.softmax(logits,dim=1)\n",
    "        ix=torch.multinomial(probs,num_samples=1,replacement=True,generator=g).item()\n",
    "        context=context[1:]+[ix]\n",
    "        out.append(ix)\n",
    "        if ix==0:\n",
    "            break\n",
    "    print(''.join(itos[i]for i in out))"
   ]
  },
  {
   "cell_type": "code",
   "execution_count": null,
   "id": "1d3414e6",
   "metadata": {},
   "outputs": [],
   "source": []
  }
 ],
 "metadata": {
  "kernelspec": {
   "display_name": "cuda-gpt",
   "language": "python",
   "name": "cuda"
  },
  "language_info": {
   "codemirror_mode": {
    "name": "ipython",
    "version": 3
   },
   "file_extension": ".py",
   "mimetype": "text/x-python",
   "name": "python",
   "nbconvert_exporter": "python",
   "pygments_lexer": "ipython3",
   "version": "3.11.5"
  }
 },
 "nbformat": 4,
 "nbformat_minor": 5
}
